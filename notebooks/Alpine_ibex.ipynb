{
 "cells": [
  {
   "cell_type": "markdown",
   "id": "be6b9caa",
   "metadata": {},
   "source": [
    "# Alpine Ibex ABM (v2) — Demo Notebook\n",
    "\n",
    "Gentler parameters for more balanced outcomes."
   ]
  },
  {
   "cell_type": "code",
   "execution_count": 1,
   "id": "21606cc2",
   "metadata": {},
   "outputs": [
    {
     "name": "stdout",
     "output_type": "stream",
     "text": [
      "Working dir: D:\\EdgeDownload\\CITS4403\\alpine_ibex_project_modular_v2\n"
     ]
    }
   ],
   "source": [
    "# Setup project path (EDIT THIS to your real path on Windows/Mac/Linux)\n",
    "import os, sys\n",
    "project_root = r\"D:\\EdgeDownload\\CITS4403\\alpine_ibex_project_modular_v2\"  # <-- change this\n",
    "os.chdir(project_root)\n",
    "sys.path.insert(0, project_root)\n",
    "print('Working dir:', os.getcwd())"
   ]
  },
  {
   "cell_type": "code",
   "execution_count": 2,
   "id": "ba4c6549",
   "metadata": {},
   "outputs": [],
   "source": [
    "# Imports\n",
    "from src.environment import Environment\n",
    "from src.experiments import run_scenario\n",
    "from utils.visualization import plot_heatmap, plot_salt_visits\n",
    "import os"
   ]
  },
  {
   "cell_type": "code",
   "execution_count": 3,
   "id": "77ae71ee",
   "metadata": {},
   "outputs": [
    {
     "name": "stdout",
     "output_type": "stream",
     "text": [
      "Terrain shape: (100, 100) Salt points: 15\n"
     ]
    }
   ],
   "source": [
    "# Build environment & data\n",
    "env = Environment(project_root, n=100, n_salt=15, seed=42)\n",
    "terrain, salt_points = env.terrain, env.salt_points\n",
    "print('Terrain shape:', terrain.shape, 'Salt points:', len(salt_points))"
   ]
  },
  {
   "cell_type": "code",
   "execution_count": 4,
   "id": "3f497599",
   "metadata": {},
   "outputs": [
    {
     "name": "stdout",
     "output_type": "stream",
     "text": [
      "\n",
      "🚀 Running scenario: baseline\n",
      "⏱ Step 0: 51 ibex alive.\n",
      "⏱ Step 20: 3 ibex alive.\n",
      "⏱ Step 40: 0 ibex alive.\n",
      "⏱ Step 60: 0 ibex alive.\n",
      "⏱ Step 80: 0 ibex alive.\n",
      "⏱ Step 100: 0 ibex alive.\n",
      "⏱ Step 120: 0 ibex alive.\n",
      "⏱ Step 140: 0 ibex alive.\n",
      "⏱ Step 160: 0 ibex alive.\n",
      "⏱ Step 180: 0 ibex alive.\n",
      "✅ Saved baseline results to D:\\EdgeDownload\\CITS4403\\alpine_ibex_project_modular_v2\\data/results_baseline.csv\n",
      "\n",
      "🚀 Running scenario: low_salt\n",
      "⏱ Step 0: 44 ibex alive.\n",
      "⏱ Step 20: 1 ibex alive.\n",
      "⏱ Step 40: 0 ibex alive.\n",
      "⏱ Step 60: 0 ibex alive.\n",
      "⏱ Step 80: 0 ibex alive.\n",
      "⏱ Step 100: 0 ibex alive.\n",
      "⏱ Step 120: 0 ibex alive.\n",
      "⏱ Step 140: 0 ibex alive.\n",
      "⏱ Step 160: 0 ibex alive.\n",
      "⏱ Step 180: 0 ibex alive.\n",
      "✅ Saved low_salt results to D:\\EdgeDownload\\CITS4403\\alpine_ibex_project_modular_v2\\data/results_low_salt.csv\n",
      "\n",
      "🚀 Running scenario: steeper\n",
      "⏱ Step 0: 44 ibex alive.\n",
      "⏱ Step 20: 4 ibex alive.\n",
      "⏱ Step 40: 1 ibex alive.\n",
      "⏱ Step 60: 0 ibex alive.\n",
      "⏱ Step 80: 0 ibex alive.\n",
      "⏱ Step 100: 0 ibex alive.\n",
      "⏱ Step 120: 0 ibex alive.\n",
      "⏱ Step 140: 0 ibex alive.\n",
      "⏱ Step 160: 0 ibex alive.\n",
      "⏱ Step 180: 0 ibex alive.\n",
      "✅ Saved steeper results to D:\\EdgeDownload\\CITS4403\\alpine_ibex_project_modular_v2\\data/results_steeper.csv\n"
     ]
    }
   ],
   "source": [
    "# Run scenarios with v2 parameters (n_agents=60, time_steps=200)\n",
    "df_base  = run_scenario(project_root, terrain, salt_points, 'baseline', 1.0, 1.0,  n_agents=60, time_steps=200)\n",
    "df_low   = run_scenario(project_root, terrain, salt_points, 'low_salt', 0.5, 1.0, n_agents=60, time_steps=200)\n",
    "df_steep = run_scenario(project_root, terrain, salt_points, 'steeper', 1.0, 1.2, n_agents=60, time_steps=200)"
   ]
  },
  {
   "cell_type": "code",
   "execution_count": 5,
   "id": "ef390aef",
   "metadata": {},
   "outputs": [
    {
     "name": "stdout",
     "output_type": "stream",
     "text": [
      "📊 Saved: D:\\EdgeDownload\\CITS4403\\alpine_ibex_project_modular_v2\\figures\\heatmap_baseline.png\n",
      "📊 Saved: D:\\EdgeDownload\\CITS4403\\alpine_ibex_project_modular_v2\\figures\\heatmap_low_salt.png\n",
      "📊 Saved: D:\\EdgeDownload\\CITS4403\\alpine_ibex_project_modular_v2\\figures\\heatmap_steeper.png\n",
      "✅ Saved D:\\EdgeDownload\\CITS4403\\alpine_ibex_project_modular_v2\\figures\\salt_visits_comparison.png\n"
     ]
    }
   ],
   "source": [
    "# Visualize\n",
    "fig_dir = os.path.join(project_root, 'figures')\n",
    "plot_heatmap(df_base,  terrain, 'Baseline Ibex (v2)', fig_dir, 'heatmap_baseline.png')\n",
    "plot_heatmap(df_low,   terrain, 'Low Salt Ibex (v2)', fig_dir, 'heatmap_low_salt.png')\n",
    "plot_heatmap(df_steep, terrain, 'Steeper Terrain Ibex (v2)', fig_dir, 'heatmap_steeper.png')\n",
    "plot_salt_visits({'baseline': df_base, 'low_salt': df_low, 'steeper': df_steep}, fig_dir)"
   ]
  },
  {
   "cell_type": "markdown",
   "id": "e74004c7",
   "metadata": {},
   "source": [
    "**Tip:** If you still see early die-off, reduce `slope_modifier` or increase `n_salt`."
   ]
  }
 ],
 "metadata": {
  "kernelspec": {
   "display_name": "Python [conda env:base] *",
   "language": "python",
   "name": "conda-base-py"
  },
  "language_info": {
   "codemirror_mode": {
    "name": "ipython",
    "version": 3
   },
   "file_extension": ".py",
   "mimetype": "text/x-python",
   "name": "python",
   "nbconvert_exporter": "python",
   "pygments_lexer": "ipython3",
   "version": "3.12.7"
  }
 },
 "nbformat": 4,
 "nbformat_minor": 5
}
