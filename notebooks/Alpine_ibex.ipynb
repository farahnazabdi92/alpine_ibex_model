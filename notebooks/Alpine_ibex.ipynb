{
 "cells": [
  {
   "cell_type": "markdown",
   "id": "be6b9caa",
   "metadata": {},
   "source": [
    "# Alpine Ibex Agent-Based Model\n",
    "\n",
    "### Activate virtual environment and install requirements:\n",
    "pip install -r requirements.txt"
   ]
  },
  {
   "cell_type": "code",
   "execution_count": null,
   "id": "57e0921a",
   "metadata": {},
   "outputs": [],
   "source": [
    "# Generate and visualize terrian.npy for Alpine Ibex Agent-based Model\n",
    "from pathlib import Path\n",
    "import numpy as np\n",
    "from scipy.ndimage import gaussian_filter\n",
    "import matplotlib.pyplot as plt"
   ]
  },
  {
   "cell_type": "code",
   "execution_count": null,
   "id": "de7b5a21",
   "metadata": {},
   "outputs": [],
   "source": [
    "# Create random terrain data\n",
    "np.random.seed(42)\n",
    "terrian = np.random.rand(100,100)"
   ]
  },
  {
   "cell_type": "code",
   "execution_count": null,
   "id": "4c334e6f",
   "metadata": {},
   "outputs": [],
   "source": [
    "# Smooth it with Gaussian filter (simulating gentle slopes)\n",
    "terrain = gaussian_filter(terrain, sigma=3)"
   ]
  },
  {
   "cell_type": "code",
   "execution_count": null,
   "id": "13289bec",
   "metadata": {},
   "outputs": [],
   "source": [
    "# Normalize values to [0, 1]\n",
    "terrain = (terrain - terrain.min()) / (terrain.max() - terrain.min())"
   ]
  },
  {
   "cell_type": "code",
   "execution_count": 3,
   "id": "21606cc2",
   "metadata": {},
   "outputs": [
    {
     "name": "stdout",
     "output_type": "stream",
     "text": [
      "Working dir: D:\\EdgeDownload\\CITS4403\\alpine_ibex_project_modular_v2\n"
     ]
    }
   ],
   "source": [
    "# Setup project path (EDIT THIS to your real path on Windows/Mac/Linux)\n",
    "import os, sys\n",
    "project_root = r\"D:\\EdgeDownload\\CITS4403\\alpine_ibex_project_modular_v2\"  # <-- change this\n",
    "os.chdir(project_root)\n",
    "sys.path.insert(0, project_root)\n",
    "print('Working dir:', os.getcwd())"
   ]
  },
  {
   "cell_type": "code",
   "execution_count": 7,
   "id": "ba4c6549",
   "metadata": {},
   "outputs": [
    {
     "ename": "ModuleNotFoundError",
     "evalue": "No module named 'src'",
     "output_type": "error",
     "traceback": [
      "\u001b[31m---------------------------------------------------------------------------\u001b[39m",
      "\u001b[31mModuleNotFoundError\u001b[39m                       Traceback (most recent call last)",
      "\u001b[36mCell\u001b[39m\u001b[36m \u001b[39m\u001b[32mIn[7]\u001b[39m\u001b[32m, line 2\u001b[39m\n\u001b[32m      1\u001b[39m \u001b[38;5;66;03m# Imports\u001b[39;00m\n\u001b[32m----> \u001b[39m\u001b[32m2\u001b[39m \u001b[38;5;28;01mfrom\u001b[39;00m\u001b[38;5;250m \u001b[39m\u001b[34;01msrc\u001b[39;00m\u001b[34;01m.\u001b[39;00m\u001b[34;01menvironment\u001b[39;00m\u001b[38;5;250m \u001b[39m\u001b[38;5;28;01mimport\u001b[39;00m Environment\n\u001b[32m      3\u001b[39m \u001b[38;5;28;01mfrom\u001b[39;00m\u001b[38;5;250m \u001b[39m\u001b[34;01msrc\u001b[39;00m\u001b[34;01m.\u001b[39;00m\u001b[34;01mexperiments\u001b[39;00m\u001b[38;5;250m \u001b[39m\u001b[38;5;28;01mimport\u001b[39;00m run_scenario\n\u001b[32m      4\u001b[39m \u001b[38;5;28;01mfrom\u001b[39;00m\u001b[38;5;250m \u001b[39m\u001b[34;01mutils\u001b[39;00m\u001b[34;01m.\u001b[39;00m\u001b[34;01mvisualization\u001b[39;00m\u001b[38;5;250m \u001b[39m\u001b[38;5;28;01mimport\u001b[39;00m plot_heatmap, plot_salt_visits\n",
      "\u001b[31mModuleNotFoundError\u001b[39m: No module named 'src'"
     ]
    }
   ],
   "source": [
    "# Imports\n",
    "from src.environment import Environment\n",
    "from src.experiments import run_scenario\n",
    "from utils.visualization import plot_heatmap, plot_salt_visits\n",
    "import os"
   ]
  },
  {
   "cell_type": "code",
   "execution_count": null,
   "id": "77ae71ee",
   "metadata": {},
   "outputs": [
    {
     "name": "stdout",
     "output_type": "stream",
     "text": [
      "Terrain shape: (100, 100) Salt points: 15\n"
     ]
    }
   ],
   "source": [
    "# Build environment & data\n",
    "env = Environment(project_root, n=100, n_salt=15, seed=42)\n",
    "terrain, salt_points = env.terrain, env.salt_points\n",
    "print('Terrain shape:', terrain.shape, 'Salt points:', len(salt_points))"
   ]
  },
  {
   "cell_type": "code",
   "execution_count": null,
   "id": "3f497599",
   "metadata": {},
   "outputs": [
    {
     "name": "stdout",
     "output_type": "stream",
     "text": [
      "\n",
      "🚀 Running scenario: baseline\n",
      "⏱ Step 0: 51 ibex alive.\n",
      "⏱ Step 20: 3 ibex alive.\n",
      "⏱ Step 40: 0 ibex alive.\n",
      "⏱ Step 60: 0 ibex alive.\n",
      "⏱ Step 80: 0 ibex alive.\n",
      "⏱ Step 100: 0 ibex alive.\n",
      "⏱ Step 120: 0 ibex alive.\n",
      "⏱ Step 140: 0 ibex alive.\n",
      "⏱ Step 160: 0 ibex alive.\n",
      "⏱ Step 180: 0 ibex alive.\n",
      "✅ Saved baseline results to D:\\EdgeDownload\\CITS4403\\alpine_ibex_project_modular_v2\\data/results_baseline.csv\n",
      "\n",
      "🚀 Running scenario: low_salt\n",
      "⏱ Step 0: 44 ibex alive.\n",
      "⏱ Step 20: 1 ibex alive.\n",
      "⏱ Step 40: 0 ibex alive.\n",
      "⏱ Step 60: 0 ibex alive.\n",
      "⏱ Step 80: 0 ibex alive.\n",
      "⏱ Step 100: 0 ibex alive.\n",
      "⏱ Step 120: 0 ibex alive.\n",
      "⏱ Step 140: 0 ibex alive.\n",
      "⏱ Step 160: 0 ibex alive.\n",
      "⏱ Step 180: 0 ibex alive.\n",
      "✅ Saved low_salt results to D:\\EdgeDownload\\CITS4403\\alpine_ibex_project_modular_v2\\data/results_low_salt.csv\n",
      "\n",
      "🚀 Running scenario: steeper\n",
      "⏱ Step 0: 44 ibex alive.\n",
      "⏱ Step 20: 4 ibex alive.\n",
      "⏱ Step 40: 1 ibex alive.\n",
      "⏱ Step 60: 0 ibex alive.\n",
      "⏱ Step 80: 0 ibex alive.\n",
      "⏱ Step 100: 0 ibex alive.\n",
      "⏱ Step 120: 0 ibex alive.\n",
      "⏱ Step 140: 0 ibex alive.\n",
      "⏱ Step 160: 0 ibex alive.\n",
      "⏱ Step 180: 0 ibex alive.\n",
      "✅ Saved steeper results to D:\\EdgeDownload\\CITS4403\\alpine_ibex_project_modular_v2\\data/results_steeper.csv\n"
     ]
    }
   ],
   "source": [
    "# Run scenarios with v2 parameters (n_agents=60, time_steps=200)\n",
    "df_base  = run_scenario(project_root, terrain, salt_points, 'baseline', 1.0, 1.0,  n_agents=60, time_steps=200)\n",
    "df_low   = run_scenario(project_root, terrain, salt_points, 'low_salt', 0.5, 1.0, n_agents=60, time_steps=200)\n",
    "df_steep = run_scenario(project_root, terrain, salt_points, 'steeper', 1.0, 1.2, n_agents=60, time_steps=200)"
   ]
  },
  {
   "cell_type": "code",
   "execution_count": null,
   "id": "ef390aef",
   "metadata": {},
   "outputs": [
    {
     "name": "stdout",
     "output_type": "stream",
     "text": [
      "📊 Saved: D:\\EdgeDownload\\CITS4403\\alpine_ibex_project_modular_v2\\figures\\heatmap_baseline.png\n",
      "📊 Saved: D:\\EdgeDownload\\CITS4403\\alpine_ibex_project_modular_v2\\figures\\heatmap_low_salt.png\n",
      "📊 Saved: D:\\EdgeDownload\\CITS4403\\alpine_ibex_project_modular_v2\\figures\\heatmap_steeper.png\n",
      "✅ Saved D:\\EdgeDownload\\CITS4403\\alpine_ibex_project_modular_v2\\figures\\salt_visits_comparison.png\n"
     ]
    }
   ],
   "source": [
    "# Visualize\n",
    "fig_dir = os.path.join(project_root, 'figures')\n",
    "plot_heatmap(df_base,  terrain, 'Baseline Ibex (v2)', fig_dir, 'heatmap_baseline.png')\n",
    "plot_heatmap(df_low,   terrain, 'Low Salt Ibex (v2)', fig_dir, 'heatmap_low_salt.png')\n",
    "plot_heatmap(df_steep, terrain, 'Steeper Terrain Ibex (v2)', fig_dir, 'heatmap_steeper.png')\n",
    "plot_salt_visits({'baseline': df_base, 'low_salt': df_low, 'steeper': df_steep}, fig_dir)"
   ]
  },
  {
   "cell_type": "markdown",
   "id": "e74004c7",
   "metadata": {},
   "source": [
    "**Tip:** If you still see early die-off, reduce `slope_modifier` or increase `n_salt`."
   ]
  }
 ],
 "metadata": {
  "kernelspec": {
   "display_name": "Python 3",
   "language": "python",
   "name": "python3"
  },
  "language_info": {
   "codemirror_mode": {
    "name": "ipython",
    "version": 3
   },
   "file_extension": ".py",
   "mimetype": "text/x-python",
   "name": "python",
   "nbconvert_exporter": "python",
   "pygments_lexer": "ipython3",
   "version": "3.13.0"
  }
 },
 "nbformat": 4,
 "nbformat_minor": 5
}
