{
 "cells": [
  {
   "cell_type": "markdown",
   "id": "be6b9caa",
   "metadata": {},
   "source": [
    "# Alpine Ibex Agent-Based Model\n",
    "\n",
    "### Activate virtual environment and install requirements:\n",
    "pip install -r requirements.txt"
   ]
  },
  {
   "cell_type": "code",
   "execution_count": null,
   "id": "57e0921a",
   "metadata": {},
   "outputs": [],
   "source": [
    "# Generate and visualize terrian.npy for Alpine Ibex Agent-based Model\n",
    "from pathlib import Path\n",
    "import numpy as np\n",
    "from scipy.ndimage import gaussian_filter\n",
    "import matplotlib.pyplot as plt"
   ]
  },
  {
   "cell_type": "code",
   "execution_count": null,
   "id": "de7b5a21",
   "metadata": {},
   "outputs": [],
   "source": [
    "# Create random terrain data\n",
    "np.random.seed(42)\n",
    "terrian = np.random.rand(100,100)"
   ]
  },
  {
   "cell_type": "code",
   "execution_count": null,
   "id": "4c334e6f",
   "metadata": {},
   "outputs": [],
   "source": [
    "# Smooth it with Gaussian filter (simulating gentle slopes)\n",
    "terrain = gaussian_filter(terrain, sigma=3)"
   ]
  },
  {
   "cell_type": "code",
   "execution_count": null,
   "id": "13289bec",
   "metadata": {},
   "outputs": [],
   "source": [
    "# Normalize values to [0, 1]\n",
    "terrain = (terrain - terrain.min()) / (terrain.max() - terrain.min())"
   ]
  },
  {
   "cell_type": "code",
   "execution_count": null,
   "id": "7a8ce613",
   "metadata": {},
   "outputs": [],
   "source": [
    "# Save to data/terrain.npy\n",
    "project_root = Path(\".\").resolve()\n",
    "data_dir = project_root / \"data\"\n",
    "data_dir.mkdir(exist_ok=True)\n",
    "np.save(data_dir / \"terrain.npy\", terrain)\n",
    "\n",
    "print(f\"Terrain file saved to: {data_dir / 'terrain.npy'}\")"
   ]
  },
  {
   "cell_type": "code",
   "execution_count": null,
   "id": "336450f5",
   "metadata": {},
   "outputs": [],
   "source": [
    "# Visualize terrain\n",
    "plt.figure(figsize=(6, 5))\n",
    "plt.imshow(terrain, cmap=\"terrain\", origin=\"lower\")\n",
    "plt.colorbar(label=\"Elevation (normalized)\")\n",
    "plt.title(\"Generated Terrain Map\")\n",
    "plt.show()"
   ]
  },
  {
   "cell_type": "code",
   "execution_count": null,
   "id": "21606cc2",
   "metadata": {},
   "outputs": [
    {
     "name": "stdout",
     "output_type": "stream",
     "text": [
      "Working dir: D:\\EdgeDownload\\CITS4403\\alpine_ibex_project_modular_v2\n"
     ]
    }
   ],
   "source": [
    "# Setup imports and environment\n",
    "import os\n",
    "from pathlib import Path\n",
    "import numpy as np\n",
    "import pandas as pd\n",
    "import matplotlib.pyplot as plt\n",
    "# Import our modules\n",
    "from src.experiments import run_scenario\n",
    "from src.environment import project_paths\n",
    "# Set project root automatically\n",
    "project_root = Path(os.getcwd())\n",
    "print('Project root:', project_root)\n",
    "# Ensure data and figures directories exist\n",
    "data_dir, figures_dir, _ = project_paths(project_root)\n",
    "print('Data dir:', data_dir)\n",
    "print('Figures dir:', figures_dir)"
   ]
  },
  {
   "cell_type": "code",
   "execution_count": null,
   "id": "ba4c6549",
   "metadata": {},
   "outputs": [
    {
     "ename": "ModuleNotFoundError",
     "evalue": "No module named 'src'",
     "output_type": "error",
     "traceback": [
      "\u001b[31m---------------------------------------------------------------------------\u001b[39m",
      "\u001b[31mModuleNotFoundError\u001b[39m                       Traceback (most recent call last)",
      "\u001b[36mCell\u001b[39m\u001b[36m \u001b[39m\u001b[32mIn[7]\u001b[39m\u001b[32m, line 2\u001b[39m\n\u001b[32m      1\u001b[39m \u001b[38;5;66;03m# Imports\u001b[39;00m\n\u001b[32m----> \u001b[39m\u001b[32m2\u001b[39m \u001b[38;5;28;01mfrom\u001b[39;00m\u001b[38;5;250m \u001b[39m\u001b[34;01msrc\u001b[39;00m\u001b[34;01m.\u001b[39;00m\u001b[34;01menvironment\u001b[39;00m\u001b[38;5;250m \u001b[39m\u001b[38;5;28;01mimport\u001b[39;00m Environment\n\u001b[32m      3\u001b[39m \u001b[38;5;28;01mfrom\u001b[39;00m\u001b[38;5;250m \u001b[39m\u001b[34;01msrc\u001b[39;00m\u001b[34;01m.\u001b[39;00m\u001b[34;01mexperiments\u001b[39;00m\u001b[38;5;250m \u001b[39m\u001b[38;5;28;01mimport\u001b[39;00m run_scenario\n\u001b[32m      4\u001b[39m \u001b[38;5;28;01mfrom\u001b[39;00m\u001b[38;5;250m \u001b[39m\u001b[34;01mutils\u001b[39;00m\u001b[34;01m.\u001b[39;00m\u001b[34;01mvisualization\u001b[39;00m\u001b[38;5;250m \u001b[39m\u001b[38;5;28;01mimport\u001b[39;00m plot_heatmap, plot_salt_visits\n",
      "\u001b[31mModuleNotFoundError\u001b[39m: No module named 'src'"
     ]
    }
   ],
   "source": [
    "# Run all scenarios\n",
    "scenarios = [\n",
    "    ('baseline', 1.0, 1.0),\n",
    "    ('low_salt', 0.5, 1.0),\n",
    "    ('steeper', 1.0, 1.3),\n",
    "]\n",
    "\n",
    "results = {}\n",
    "for name, salt_mod, slope_mod in scenarios:\n",
    "    print(f'\\n===== Running {name} scenario =====')\n",
    "    df = run_scenario(project_root, name, salt_modifier=salt_mod, slope_modifier=slope_mod)\n",
    "    results[name] = df\n",
    "    print(f'Finished {name}: {len(df)} records')"
   ]
  },
  {
   "cell_type": "code",
   "execution_count": null,
   "id": "77ae71ee",
   "metadata": {},
   "outputs": [
    {
     "name": "stdout",
     "output_type": "stream",
     "text": [
      "Terrain shape: (100, 100) Salt points: 15\n"
     ]
    }
   ],
   "source": [
    "# Display summary of results\n",
    "for name, df in results.items():    \n",
    "    print(f'\\n### {name.upper()} ###')\n",
    "    display(df.head())\n",
    "    alive_counts = df.groupby('step')['alive'].sum()\n",
    "    plt.figure(figsize=(6,3))\n",
    "    plt.plot(alive_counts)\n",
    "    plt.title(f'Alives over time — {name}')\n",
    "    plt.xlabel('Step')\n",
    "    plt.ylabel('Alive agents')\n",
    "    plt.show()"
   ]
  }
 ],
 "metadata": {
  "kernelspec": {
   "display_name": "Python 3",
   "language": "python",
   "name": "python3"
  },
  "language_info": {
   "codemirror_mode": {
    "name": "ipython",
    "version": 3
   },
   "file_extension": ".py",
   "mimetype": "text/x-python",
   "name": "python",
   "nbconvert_exporter": "python",
   "pygments_lexer": "ipython3",
   "version": "3.13.0"
  }
 },
 "nbformat": 4,
 "nbformat_minor": 5
}
